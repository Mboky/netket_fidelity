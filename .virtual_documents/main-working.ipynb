import openfermion
import numpy as np
import matplotlib.pyplot as plt
import sys, os
import netket.experimental as nkx
import netket as nk
import networkx as nx
from collections import defaultdict

get_ipython().run_line_magic("load_ext", " autoreload")
get_ipython().run_line_magic("autoreload", " 2")


from mol_data.LiH.r_1p25 import operator as LiH_dict
# from mol_data.H2.r_1p25 import operator as H2


import openfermion
import netket.experimental as nkx
from src.convert import create_hilbert, dict_to_openfermion
# from src.ordering import to_reverse_normal_ordering
    
# the following should be provided by Filippo as well: pyscf knows the electrons per spin (alpha, beta)
# though this is typically not stored in openfermion
n_fermions = (3, 1) # i'll assume something to play around
hi = create_hilbert(LiH_dict, n_fermions=n_fermions)
of_op = dict_to_openfermion(LiH_dict)
ham = nkx.operator.FermionOperator2nd.from_openfermion(
    hi, 
    of_fermion_operator=of_op, 
    convert_spin_blocks=True
)

# hi = nkx.hilbert.SpinOrbitalFermions(2, s=1/2, n_fermions=(1, 1))
# # ham = nkx.operator.FermionOperator2nd(hi, terms=("0^ 0 0^ 0", "0^ 1 3^ 3", "0^ 1 0^ 1"), weights=(1, 0.5, 0.33))
# ham = nkx.operator.FermionOperator2nd(hi, terms=("0^ 2^ 1 3", "0^ 0 1^ 1"), weights=(1,0.3))


#print(ham.operator_string())


# from src.models import MeanBackflowSlaterSpin
from igraph import Graph

# jastrow = nk.models.RBM()
# ma = MeanBackflowSlaterSpin(
#     hi.n_orbitals, hi.n_fermions,
#     jastrow=jastrow
# )

ma = nk.models.RBM()

# allow all to all transitions within a spin Fock space
nx_g = nx.complete_graph(hi.n_orbitals, create_using=nx.Graph)
edges = list(nx_g.edges())
g = nk.graph.Graph(edges, n_nodes=hi.n_orbitals)
disj_graph = nk.graph.disjoint_union(g, g)
# sa = nk.sampler.MetropolisExchange(hi, graph=disj_graph, n_chains=1)
sa = nk.sampler.ExactSampler(hi)

vs = nk.vqs.MCState(sa, ma, n_samples=8*1024, n_discard_per_chain=100)#, chunk_size=1024)
vs


from src.my_ordering import to_spin_sector_ordering
from src.reverse_normal_ordering import to_reverse_normal_ordering
from src.normal_ordering import to_normal_ordering

ham = to_normal_ordering(ham)
ham = to_spin_sector_ordering(ham)

if False:
    print(ham.operator_string())
    print()
    print(ham.operator_string())
    print()
    print(ham.operator_string())



from src.decompose import decompose_C_T_V, fermion_Vop_to_tensor, fermion_Top_to_Vop

C, H_T, H_V = decompose_C_T_V(ham)
C, H_T, H_V


H_TV = H_V + fermion_Top_to_Vop(H_T)
#print(H_TV.operator_string())


Vtensor = fermion_Vop_to_tensor(H_V)
TVtensor = fermion_Vop_to_tensor(H_TV)
Vtensor.shape, TVtensor.shape


def check_V_operator(H_V):
    assert np.isclose(H_V._constant, 0), f"got {H_V._constant}"
    n_orb = H_V.hilbert.n_orbitals
    for op, w in H_V._operators.items():
        f1, f2, f3, f4 = op
        if (f1[-1], f2[-1], f3[-1], f4[-1]) != (1, 0, 1, 0):
            raise Exception(f"wrong daggering of {op}")
        if (f1[0] < n_orb) != (f2[0] < n_orb):
            raise Exception(f"wrong ordering of {op}")
        if (f3[0] < n_orb) != (f4[0] < n_orb):
            raise Exception(f"wrong ordering of {op}")
    return True
    
check_V_operator(H_V)
check_V_operator(H_TV)


# def split_V_operator(H_V):
#     assert np.isclose(H_V._constant, 0), f"got {H_V._constant}"
#     opsL = []
#     opsR = []
#     for op, w in H_V._operators.items():
#         f1, f2, f3, f4 = op
#         if (f1[-1], f2[-1], f3[-1], f4[-1]) != (0, 1, 1, 0):
# #             print("not in good form:", op)
#             pass
#         opsL.append((f1, f2))
#         opsR.append((f3, f4))
    
#     opsL = nkx.operator.FermionOperator2nd(H_V.hilbert, terms=opsL, weights=None)
#     opsR = nkx.operator.FermionOperator2nd(H_V.hilbert, terms=opsR, weights=None)
    
#     return opsL, opsR
    
# op_V_L, op_V_R = split_V_operator(H_V)
# op_V_L, op_V_R


# print(op_V_L.operator_string())
# print()
# print(op_V_R.operator_string())


# def split_operators(op):
#     op_list = []
#     if not np.isclose(op._constant, 0):
#         op_list.append(
#             nkx.operator.FermionOperator2nd(op.hilbert, terms=None, weights=None, constant=op._constant)
#         )
#     for term, weight in op._operators.items():
#         op_list.append(
#             nkx.operator.FermionOperator2nd(op.hilbert, terms=[term], weights=[weight])
#         )
#     return op_list

# op_V_R_list = split_operators(op_V_R)
# op_V_L_list = split_operators(op_V_L)


print(H_V.operator_string())


Vtensor.nonzero()


from src.expect import compute_v_energy, compute_v_energy_and_grad, compute_Aloc

# vs._samples = None
vs.reset()
vs.init()
# print("samples = ", vs.samples)
out = compute_v_energy(vs._apply_fun, vs.parameters, vs.samples, Vtensor, hi.n_fermions)
out


out = compute_v_energy_and_grad(vs._apply_fun, vs.parameters, vs.samples, Vtensor, hi.n_fermions)
#out


Vtensor.nonzero()


# print("sample:", vs.samples)
# out = compute_Aloc(vs._apply_fun, vs.parameters, vs.samples, hi.n_fermions[0], idx_range=(0, 2))
# Aloc, idx_i, idx_j = out
# idx_i, idx_j


# out = compute_Aloc(vs._apply_fun, vs.parameters, vs.samples, hi.n_fermions[1], idx_range=(2, 4))
# Aloc, idx_i, idx_j = out
# idx_i, idx_j


# Vtensor.nonzero()


t1 = vs.expect(C)
t2 = vs.expect(H_T)
t3 = vs.expect(H_V)
print(t3)


def callback(step, log_data, driver):
    v_est = compute_v_energy(vs._apply_fun, vs.parameters, vs.samples, Vtensor, hi.n_fermions)
    v_true = vs.expect(H_V)
    log_data["v_true"] = v_true
    log_data["v_est"] = v_est

    tv_est = compute_v_energy(vs._apply_fun, vs.parameters, vs.samples, TVtensor, hi.n_fermions)
    tv_true = vs.expect(ham).mean - ham._constant
    log_data["tv_true"] = tv_true
    log_data["tv_est"] = tv_est

    
    return True


# we will use sgd with Stochastic Reconfiguration
opt = nk.optimizer.Sgd(learning_rate=0.01)
sr = nk.optimizer.SR(diag_shift=0.001)

gs = nk.driver.VMC(ham, opt, variational_state=vs, preconditioner=sr)

# now run the optimization
# first step will take longer in order to compile
exp_name = "runs/fermions_test"
gs.run(500, out=exp_name, callback=callback)


import json
############## plot #################

with open(f"{exp_name}.log", "r") as f:
    data = json.load(f)

x = data["v_true"]["iters"]
y = data["v_true"]["Mean"]#["real"]
y2 = data["v_est"]["Mean"]#["real"]

y = np.array(y)
y2 = np.array(y2)

# plot the energy levels
plt.plot(x, y, color="blue", label="Vtrue")
plt.plot(x, y2, color="red", label="Vest")
plt.xlabel("step")
plt.ylabel("V")
plt.legend()
plt.show()


import json
############## plot #################


# plot the energy levels
plt.plot(x, np.abs(y2 - y)/np.abs(y), color="red")
plt.xlabel("step")
plt.ylabel("Verror")
plt.yscale('log')
# plt.legend()
plt.show()


import json
############## plot #################

with open(f"{exp_name}.log", "r") as f:
    data = json.load(f)

x = data["tv_true"]["iters"]
y = data["tv_true"]['value']#["Mean"]#["real"]
y2 = data["tv_est"]["Mean"]#["real"]

y = np.array(y)
y2 = np.array(y2)

# plot the energy levels
plt.plot(x, y, color="blue", label="Vtrue")
plt.plot(x, y2, color="red", label="Vest")
plt.xlabel("step")
plt.ylabel("T+V")
plt.legend()
plt.show()

plt.plot(x, np.abs(y2 - y)/np.abs(y), color="red")
plt.xlabel("step")
plt.ylabel("T+V error")
plt.yscale('log')
# plt.legend()
plt.show()



############## plot #################

ed_energies = np.linalg.eigvalsh(ham.to_dense())

with open(f"{exp_name}.log", "r") as f:
    data = json.load(f)

x = data["Energy"]["iters"]
y = data["Energy"]["Mean"]#["real"]

# plot the energy levels
plt.axhline(ed_energies[0], color="red", label="E0")
for e in ed_energies[1:]:
    plt.axhline(e, color="black")
plt.plot(x, y, color="red", label="VMC")
plt.xlabel("step")
plt.ylabel("E")
plt.show()















